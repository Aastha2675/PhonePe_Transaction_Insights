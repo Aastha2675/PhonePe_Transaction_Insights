{
 "cells": [
  {
   "cell_type": "code",
   "execution_count": 1,
   "id": "029e57f2",
   "metadata": {},
   "outputs": [],
   "source": [
    "import pandas as pd\n",
    "import matplotlib.pyplot as plt\n",
    "import seaborn as sns\n",
    "from credentials import DB_USER, USER_PASSWORD\n",
    "from sqlalchemy import create_engine, types"
   ]
  },
  {
   "cell_type": "code",
   "execution_count": 2,
   "id": "d58f199f",
   "metadata": {},
   "outputs": [],
   "source": [
    "db_config = {\n",
    "    'host': 'localhost',\n",
    "    'user': DB_USER,\n",
    "    'password': USER_PASSWORD,\n",
    "    'database': 'phonepe'\n",
    "}"
   ]
  },
  {
   "cell_type": "markdown",
   "id": "6b4b0f41",
   "metadata": {},
   "source": [
    "### 1. Data Collection \n"
   ]
  },
  {
   "cell_type": "markdown",
   "id": "579c3496",
   "metadata": {},
   "source": [
    "* Connecting with MySQL Database"
   ]
  },
  {
   "cell_type": "code",
   "execution_count": 3,
   "id": "3e738b56",
   "metadata": {},
   "outputs": [],
   "source": [
    "# Create the connection string using f-string\n",
    "connection_string = f\"mysql+mysqlconnector://{db_config['user']}:{db_config['password']}@{db_config['host']}/{db_config['database']}\"\n",
    "\n",
    "# Create the SQLAlchemy engine\n",
    "engine = create_engine(connection_string)"
   ]
  },
  {
   "cell_type": "markdown",
   "id": "5237f6ff",
   "metadata": {},
   "source": [
    "* Getting Aggregated Data From Database"
   ]
  },
  {
   "cell_type": "code",
   "execution_count": 4,
   "id": "018e9e1a",
   "metadata": {},
   "outputs": [],
   "source": [
    "query_for_agg_insu = \"\"\"SELECT * FROM aggregated_insurance\"\"\"\n",
    "\n",
    "query_for_agg_trans = \"\"\"SELECT * FROM aggregated_transaction\"\"\"\n",
    "\n",
    "query_for_agg_user = \"\"\"SELECT * FROM aggregated_user\"\"\"\n",
    "\n",
    "# creating dataframes\n",
    "df_agg_insu = pd.read_sql(query_for_agg_insu,engine)\n",
    "df_agg_trans = pd.read_sql(query_for_agg_trans,engine)\n",
    "df_agg_user = pd.read_sql(query_for_agg_user,engine)"
   ]
  },
  {
   "cell_type": "markdown",
   "id": "b520fd4b",
   "metadata": {},
   "source": [
    "* Seperate the Top States, Top District and Top Pincodes"
   ]
  },
  {
   "cell_type": "markdown",
   "id": "a424d1bb",
   "metadata": {},
   "source": [
    "1. Insurance data"
   ]
  },
  {
   "cell_type": "code",
   "execution_count": 5,
   "id": "775d0d45",
   "metadata": {},
   "outputs": [],
   "source": [
    "query_for_top_states = \"\"\"SELECT * FROM top_insurance \n",
    "                          WHERE `TopState` IS NOT NULL \n",
    "                          ORDER BY `Year` ASC, `Quarter` ASC\"\"\" \n",
    "\n",
    "query_for_top_dist = \"\"\"SELECT * FROM top_insurance\n",
    "                        WHERE `TopDistrict` IS NOT NULL\n",
    "                        ORDER BY `Year` ASC, `Quarter` ASC\"\"\"\n",
    "\n",
    "query_for_top_pins = \"\"\"SELECT * FROM top_insurance\n",
    "                        WHERE `TopPinCode` IS NOT NULL\n",
    "                        ORDER BY `Year` ASC, `Quarter` ASC\"\"\"\n",
    "\n",
    "df_top_state_insu = pd.read_sql(query_for_top_states,engine)\n",
    "df_top_dist_insu = pd.read_sql(query_for_top_dist,engine)\n",
    "df_top_pins_insu = pd.read_sql(query_for_top_pins,engine)"
   ]
  },
  {
   "cell_type": "markdown",
   "id": "34b0243f",
   "metadata": {},
   "source": [
    "2. Transcation Data"
   ]
  },
  {
   "cell_type": "code",
   "execution_count": 6,
   "id": "aaab0925",
   "metadata": {},
   "outputs": [],
   "source": [
    "query_for_top_states = \"\"\"SELECT * FROM top_transaction \n",
    "                          WHERE `TopState` IS NOT NULL \n",
    "                          ORDER BY `Year` ASC, `Quarter` ASC\"\"\" \n",
    "\n",
    "query_for_top_dist = \"\"\"SELECT * FROM top_transaction\n",
    "                        WHERE `TopDistrict` IS NOT NULL\n",
    "                        ORDER BY `Year` ASC, `Quarter` ASC\"\"\"\n",
    "\n",
    "query_for_top_pins = \"\"\"SELECT * FROM top_transaction\n",
    "                        WHERE `TopPinCode` IS NOT NULL\n",
    "                        ORDER BY `Year` ASC, `Quarter` ASC\"\"\"\n",
    "\n",
    "df_top_state_trans = pd.read_sql(query_for_top_states,engine)\n",
    "df_top_dist_trans = pd.read_sql(query_for_top_dist,engine)\n",
    "df_top_pins_trans = pd.read_sql(query_for_top_pins,engine)"
   ]
  },
  {
   "cell_type": "markdown",
   "id": "89f30aec",
   "metadata": {},
   "source": [
    "3. User Data"
   ]
  },
  {
   "cell_type": "code",
   "execution_count": 7,
   "id": "0a3d2aee",
   "metadata": {},
   "outputs": [],
   "source": [
    "query_for_top_states = \"\"\"SELECT * FROM top_user \n",
    "                          WHERE `TopState` IS NOT NULL \n",
    "                          ORDER BY `Year` ASC, `Quarter` ASC\"\"\" \n",
    "\n",
    "query_for_top_dist = \"\"\"SELECT * FROM top_user\n",
    "                        WHERE `TopDistrict` IS NOT NULL\n",
    "                        ORDER BY `Year` ASC, `Quarter` ASC\"\"\"\n",
    "\n",
    "query_for_top_pins = \"\"\"SELECT * FROM top_user\n",
    "                        WHERE `TopPinCode` IS NOT NULL\n",
    "                        ORDER BY `Year` ASC, `Quarter` ASC\"\"\"\n",
    "\n",
    "df_top_state_user = pd.read_sql(query_for_top_states,engine)\n",
    "df_top_dist_user = pd.read_sql(query_for_top_dist,engine)\n",
    "df_top_pins_user = pd.read_sql(query_for_top_pins,engine)"
   ]
  },
  {
   "cell_type": "markdown",
   "id": "3d592468",
   "metadata": {},
   "source": [
    "* Getting Map Data"
   ]
  },
  {
   "cell_type": "code",
   "execution_count": 8,
   "id": "e6f9dd68",
   "metadata": {},
   "outputs": [
    {
     "ename": "TypeError",
     "evalue": "read_sql() missing 1 required positional argument: 'con'",
     "output_type": "error",
     "traceback": [
      "\u001b[31m---------------------------------------------------------------------------\u001b[39m",
      "\u001b[31mTypeError\u001b[39m                                 Traceback (most recent call last)",
      "\u001b[36mCell\u001b[39m\u001b[36m \u001b[39m\u001b[32mIn[8]\u001b[39m\u001b[32m, line 5\u001b[39m\n\u001b[32m      2\u001b[39m query_for_map_trans = \u001b[33m\"\"\"\u001b[39m\u001b[33mSELECT * FROM map_transaction\u001b[39m\u001b[33m\"\"\"\u001b[39m\n\u001b[32m      3\u001b[39m query_for_map_user = \u001b[33m\"\"\"\u001b[39m\u001b[33mSELECT * FROM map_user\u001b[39m\u001b[33m\"\"\"\u001b[39m\n\u001b[32m----> \u001b[39m\u001b[32m5\u001b[39m df_map_insu = \u001b[43mpd\u001b[49m\u001b[43m.\u001b[49m\u001b[43mread_sql\u001b[49m\u001b[43m(\u001b[49m\u001b[43mquery_for_map_insu\u001b[49m\u001b[43m)\u001b[49m\n\u001b[32m      6\u001b[39m df_map_trans = pd.read_sql(query_for_map_trans)\n\u001b[32m      7\u001b[39m df_map_user = pd.read_sql(query_for_map_user)\n",
      "\u001b[31mTypeError\u001b[39m: read_sql() missing 1 required positional argument: 'con'"
     ]
    }
   ],
   "source": [
    "query_for_map_insu = \"\"\"SELECT * FROM map_insurance_hover\"\"\"\n",
    "query_for_map_trans = \"\"\"SELECT * FROM map_transaction\"\"\"\n",
    "query_for_map_user = \"\"\"SELECT * FROM map_user\"\"\"\n",
    "\n",
    "df_map_insu = pd.read_sql(query_for_map_insu)\n",
    "df_map_trans = pd.read_sql(query_for_map_trans)\n",
    "df_map_user = pd.read_sql(query_for_map_user)\n"
   ]
  },
  {
   "cell_type": "markdown",
   "id": "89c33e76",
   "metadata": {},
   "source": [
    "### 2. Data Cleaning"
   ]
  },
  {
   "cell_type": "markdown",
   "id": "efa00440",
   "metadata": {},
   "source": [
    "#### * Aggregated Data"
   ]
  },
  {
   "cell_type": "code",
   "execution_count": null,
   "id": "1d6e9e77",
   "metadata": {},
   "outputs": [],
   "source": [
    "# Storing all the tables in one dict for better access\n",
    "dataframes = {\"Aggregated Insurance\":df_agg_insu,\"Aggregated Transaction\":df_agg_trans,\"Aggregated User\":df_agg_user}"
   ]
  },
  {
   "cell_type": "code",
   "execution_count": null,
   "id": "f05a276c",
   "metadata": {},
   "outputs": [
    {
     "name": "stdout",
     "output_type": "stream",
     "text": [
      "Aggregated Insurance table :\n",
      "   InsuranceCount  InsuranceAmount  Year  Quarter State\n",
      "0          185348       33732200.0  2020        2  None\n",
      "1          354284       89495100.0  2020        3  None\n",
      "\n",
      "Aggregated Transaction table :\n",
      "            TransactionType  TransactionCount  TransactionAmount  Year  \\\n",
      "0  Recharge & bill payments          72550406       1.447270e+10  2018   \n",
      "1     Peer-to-peer payments          46982705       1.472460e+11  2018   \n",
      "\n",
      "   Quarter State  \n",
      "0        1  None  \n",
      "1        1  None  \n",
      "\n",
      "Aggregated User table :\n",
      "     Brand     Count  RegisteredUsers  Percentage  Year  Quarter State\n",
      "0   Xiaomi  11926334         46877867    0.254413  2018        1  None\n",
      "1  Samsung   9609401         46877867    0.204988  2018        1  None\n",
      "\n"
     ]
    }
   ],
   "source": [
    "# displaying the first view of tables\n",
    "for key,value in dataframes.items():\n",
    "  print(f\"{key} table :\")\n",
    "  print(f\"{value.head(2)}\\n\")"
   ]
  },
  {
   "cell_type": "code",
   "execution_count": null,
   "id": "bee93e0b",
   "metadata": {},
   "outputs": [
    {
     "name": "stdout",
     "output_type": "stream",
     "text": [
      "Aggregated Insurance shape is - (701, 5)\n",
      "Aggregated Transaction shape is - (5174, 6)\n",
      "Aggregated User shape is - (6919, 7)\n"
     ]
    }
   ],
   "source": [
    "# displaying rows and columns of tables\n",
    "for key,value in dataframes.items():\n",
    "  print(f\"{key} shape is - {value.shape}\")"
   ]
  },
  {
   "cell_type": "code",
   "execution_count": null,
   "id": "301e88f5",
   "metadata": {},
   "outputs": [
    {
     "name": "stdout",
     "output_type": "stream",
     "text": [
      "<class 'pandas.core.frame.DataFrame'>\n",
      "RangeIndex: 701 entries, 0 to 700\n",
      "Data columns (total 5 columns):\n",
      " #   Column           Non-Null Count  Dtype  \n",
      "---  ------           --------------  -----  \n",
      " 0   InsuranceCount   701 non-null    int64  \n",
      " 1   InsuranceAmount  701 non-null    float64\n",
      " 2   Year             701 non-null    int64  \n",
      " 3   Quarter          701 non-null    int64  \n",
      " 4   State            682 non-null    object \n",
      "dtypes: float64(1), int64(3), object(1)\n",
      "memory usage: 27.5+ KB\n",
      "Aggregated Insurance\n",
      "None\n",
      "\n",
      "<class 'pandas.core.frame.DataFrame'>\n",
      "RangeIndex: 5174 entries, 0 to 5173\n",
      "Data columns (total 6 columns):\n",
      " #   Column             Non-Null Count  Dtype  \n",
      "---  ------             --------------  -----  \n",
      " 0   TransactionType    5174 non-null   object \n",
      " 1   TransactionCount   5174 non-null   int64  \n",
      " 2   TransactionAmount  5174 non-null   float64\n",
      " 3   Year               5174 non-null   int64  \n",
      " 4   Quarter            5174 non-null   int64  \n",
      " 5   State              5034 non-null   object \n",
      "dtypes: float64(1), int64(3), object(2)\n",
      "memory usage: 242.7+ KB\n",
      "Aggregated Transaction\n",
      "None\n",
      "\n",
      "<class 'pandas.core.frame.DataFrame'>\n",
      "RangeIndex: 6919 entries, 0 to 6918\n",
      "Data columns (total 7 columns):\n",
      " #   Column           Non-Null Count  Dtype  \n",
      "---  ------           --------------  -----  \n",
      " 0   Brand            6919 non-null   object \n",
      " 1   Count            6919 non-null   int64  \n",
      " 2   RegisteredUsers  6919 non-null   int64  \n",
      " 3   Percentage       6919 non-null   float64\n",
      " 4   Year             6919 non-null   int64  \n",
      " 5   Quarter          6919 non-null   int64  \n",
      " 6   State            6732 non-null   object \n",
      "dtypes: float64(1), int64(4), object(2)\n",
      "memory usage: 378.5+ KB\n",
      "Aggregated User\n",
      "None\n",
      "\n"
     ]
    }
   ],
   "source": [
    "# displaying basic info of tables\n",
    "for key,value in dataframes.items():\n",
    "  print(f\"{key}\\n{value.info()}\\n\")"
   ]
  },
  {
   "cell_type": "code",
   "execution_count": null,
   "id": "55e07081",
   "metadata": {},
   "outputs": [
    {
     "name": "stdout",
     "output_type": "stream",
     "text": [
      "No. of duplicates in Aggregated Insurance - 0\n",
      "No. of duplicates in Aggregated Transaction - 0\n",
      "No. of duplicates in Aggregated User - 0\n"
     ]
    }
   ],
   "source": [
    "# checking for duplicate values \n",
    "for key,value in dataframes.items():\n",
    "  print(f\"No. of duplicates in {key} - {value.duplicated().sum()}\")"
   ]
  },
  {
   "cell_type": "code",
   "execution_count": null,
   "id": "c91f5054",
   "metadata": {},
   "outputs": [
    {
     "name": "stdout",
     "output_type": "stream",
     "text": [
      "Aggregated Insurance\n",
      "InsuranceCount      0\n",
      "InsuranceAmount     0\n",
      "Year                0\n",
      "Quarter             0\n",
      "State              19\n",
      "dtype: int64\n",
      "\n",
      "Aggregated Transaction\n",
      "TransactionType        0\n",
      "TransactionCount       0\n",
      "TransactionAmount      0\n",
      "Year                   0\n",
      "Quarter                0\n",
      "State                140\n",
      "dtype: int64\n",
      "\n",
      "Aggregated User\n",
      "Brand                0\n",
      "Count                0\n",
      "RegisteredUsers      0\n",
      "Percentage           0\n",
      "Year                 0\n",
      "Quarter              0\n",
      "State              187\n",
      "dtype: int64\n",
      "\n"
     ]
    }
   ],
   "source": [
    "# checking for missing values\n",
    "for key,value in dataframes.items():\n",
    "  print(f\"{key}\\n{value.isna().sum()}\\n\")"
   ]
  },
  {
   "cell_type": "markdown",
   "id": "2b092e04",
   "metadata": {},
   "source": [
    "##### * Visualizing missing values using Heatmap"
   ]
  },
  {
   "cell_type": "code",
   "execution_count": null,
   "id": "8b239396",
   "metadata": {},
   "outputs": [],
   "source": [
    "# function for plotting heatmap\n",
    "def plot_heatmap(df,title):\n",
    "  plt.figure(figsize=(4, 2))\n",
    "  sns.heatmap(df.isnull(), cbar=False, cmap='viridis', yticklabels=False)\n",
    "  plt.title(f\"{title}\")\n",
    "  plt.show()"
   ]
  },
  {
   "cell_type": "code",
   "execution_count": null,
   "id": "5a04569e",
   "metadata": {},
   "outputs": [
    {
     "data": {
      "image/png": "[encoded data removed]",
      "text/plain": [
       "<Figure size 400x200 with 1 Axes>"
      ]
     },
     "metadata": {},
     "output_type": "display_data"
    }
   ],
   "source": [
    "# heatmap for aggregated insurance\n",
    "plot_heatmap(df_agg_insu,\"Aggregated Insurance\")"
   ]
  },
  {
   "cell_type": "code",
   "execution_count": null,
   "id": "75ef09a7",
   "metadata": {},
   "outputs": [
    {
     "data": {
      "image/png": "[encoded data removed]",
      "text/plain": [
       "<Figure size 400x200 with 1 Axes>"
      ]
     },
     "metadata": {},
     "output_type": "display_data"
    }
   ],
   "source": [
    "# heatmap for aggregated transcation\n",
    "plot_heatmap(df_agg_trans,\"Aggregated Transcation\")"
   ]
  },
  {
   "cell_type": "code",
   "execution_count": null,
   "id": "409fb4b2",
   "metadata": {},
   "outputs": [
    {
     "data": {
      "image/png": "[encoded data removed]",
      "text/plain": [
       "<Figure size 400x200 with 1 Axes>"
      ]
     },
     "metadata": {},
     "output_type": "display_data"
    }
   ],
   "source": [
    "# heatmap for aggregated users\n",
    "plot_heatmap(df_agg_user,\"Aggregated Users\")"
   ]
  },
  {
   "cell_type": "code",
   "execution_count": null,
   "id": "5752c0e5",
   "metadata": {},
   "outputs": [
    {
     "name": "stdout",
     "output_type": "stream",
     "text": [
      "Unique values in table Aggregated Insurance\n",
      "InsuranceCount - 673\n",
      "InsuranceAmount - 701\n",
      "Year - 5\n",
      "Quarter - 4\n",
      "State - 36\n",
      "\n",
      "\n",
      "Unique values in table Aggregated Transaction\n",
      "TransactionType - 5\n",
      "TransactionCount - 5106\n",
      "TransactionAmount - 5168\n",
      "Year - 7\n",
      "Quarter - 4\n",
      "State - 36\n",
      "\n",
      "\n",
      "Unique values in table Aggregated User\n",
      "Brand - 20\n",
      "Count - 6688\n",
      "RegisteredUsers - 629\n",
      "Percentage - 6879\n",
      "Year - 5\n",
      "Quarter - 4\n",
      "State - 36\n",
      "\n",
      "\n"
     ]
    }
   ],
   "source": [
    "# Displaying Unique Value w.r.t column\n",
    "for key,value in dataframes.items():\n",
    "  print(f\"Unique values in table {key}\")\n",
    "  for col in value.columns:\n",
    "    print(f\"{col} - {value[col].nunique()}\")\n",
    "  print(\"\\n\")"
   ]
  },
  {
   "cell_type": "markdown",
   "id": "6c7932af",
   "metadata": {},
   "source": [
    "#### * Top Data"
   ]
  },
  {
   "cell_type": "code",
   "execution_count": null,
   "id": "a16c32b5",
   "metadata": {},
   "outputs": [],
   "source": [
    "# storing all tables inside a dictionary for better access\n",
    "dataframes1 = {\"Top_State\":df_top_state_insu,\"Top_District\":df_top_dist_insu,\"Top_Pincode\":df_top_pins_insu}\n",
    "dataframes2 = {\"Top_State\":df_top_state_trans,\"Top_District\":df_top_dist_trans,\"Top_Pincode\":df_top_pins_trans}\n",
    "dataframes3 = {\"Top_State\":df_top_state_user,\"Top_District\":df_top_dist_user,\"Top_Pincode\":df_top_pins_user}"
   ]
  },
  {
   "cell_type": "code",
   "execution_count": null,
   "id": "7f35ca41",
   "metadata": {},
   "outputs": [
    {
     "name": "stdout",
     "output_type": "stream",
     "text": [
      "Top_State table :\n",
      "      TopState  StateCount  StateAmount  Year  Quarter State TopDistrict  \\\n",
      "0  maharashtra     39836.0    6879720.0  2020        2  None        None   \n",
      "1    karnataka     27358.0    4794150.0  2020        2  None        None   \n",
      "\n",
      "  DistCount DistAmount TopPinCode PinCount PinAmount  \n",
      "0      None       None       None     None      None  \n",
      "1      None       None       None     None      None  \n",
      "\n",
      "Top_District table :\n",
      "  TopState StateCount StateAmount  Year  Quarter      State       TopDistrict  \\\n",
      "0     None       None        None  2020        2  meghalaya  east khasi hills   \n",
      "1     None       None        None  2020        2  meghalaya            ribhoi   \n",
      "\n",
      "   DistCount  DistAmount TopPinCode PinCount PinAmount  \n",
      "0       18.0      3753.0       None     None      None  \n",
      "1        8.0      1822.0       None     None      None  \n",
      "\n",
      "Top_Pincode table :\n",
      "  TopState StateCount StateAmount  Year  Quarter           State TopDistrict  \\\n",
      "0     None       None        None  2020        2  madhya-pradesh        None   \n",
      "1     None       None        None  2020        2  madhya-pradesh        None   \n",
      "\n",
      "  DistCount DistAmount TopPinCode  PinCount  PinAmount  \n",
      "0      None       None     452010     307.0    49500.0  \n",
      "1      None       None     452016     194.0    33757.0  \n",
      "\n",
      "Top_State table :\n",
      "        TopState  StateCount   StateAmount  Year  Quarter State TopDistrict  \\\n",
      "0    maharashtra  16387000.0  2.171160e+10  2018        1  None        None   \n",
      "1  uttar pradesh  12537800.0  1.394000e+10  2018        1  None        None   \n",
      "\n",
      "  DistCount DistAmount TopPinCode PinCount PinAmount  \n",
      "0      None       None       None     None      None  \n",
      "1      None       None       None     None      None  \n",
      "\n",
      "Top_District table :\n",
      "  TopState StateCount StateAmount  Year  Quarter   State TopDistrict  \\\n",
      "0     None       None        None  2018        1  sikkim        east   \n",
      "1     None       None        None  2018        1  sikkim       south   \n",
      "\n",
      "   DistCount  DistAmount TopPinCode PinCount PinAmount  \n",
      "0    24432.0  35907400.0       None     None      None  \n",
      "1    11355.0  16098300.0       None     None      None  \n",
      "\n",
      "Top_Pincode table :\n",
      "  TopState StateCount StateAmount  Year  Quarter   State TopDistrict  \\\n",
      "0     None       None        None  2018        1  odisha        None   \n",
      "1     None       None        None  2018        1  odisha        None   \n",
      "\n",
      "  DistCount DistAmount TopPinCode  PinCount    PinAmount  \n",
      "0      None       None     751002   97309.0  111613000.0  \n",
      "1      None       None     754141   74247.0   32347300.0  \n",
      "\n",
      "Top_State table :\n",
      "        TopState  RegUsers  Year  Quarter State TopDistrict TopPinCode\n",
      "0    maharashtra   6106994  2018        1  None        None       None\n",
      "1  uttar pradesh   4694250  2018        1  None        None       None\n",
      "\n",
      "Top_District table :\n",
      "  TopState  RegUsers  Year  Quarter       State  TopDistrict TopPinCode\n",
      "0     None    292004  2018        1  tamil-nadu      chennai       None\n",
      "1     None    215622  2018        1  tamil-nadu  thiruvallur       None\n",
      "\n",
      "Top_Pincode table :\n",
      "  TopState  RegUsers  Year  Quarter       State TopDistrict  TopPinCode\n",
      "0     None      5295  2018        1  puducherry        None    605110.0\n",
      "1     None      4326  2018        1  puducherry        None    605008.0\n",
      "\n"
     ]
    }
   ],
   "source": [
    "# storing all the above dict in list each dict represents sub category i.e insurance, user etc.\n",
    "list = [dataframes1,dataframes2,dataframes3]\n",
    "\n",
    "# Displaying the fisrt view of tabels\n",
    "for df in list:\n",
    "  for key,value in df.items():\n",
    "    print(f\"{key} table :\")\n",
    "    print(f\"{value.head(2)}\\n\")\n"
   ]
  },
  {
   "cell_type": "code",
   "execution_count": null,
   "id": "74f12824",
   "metadata": {},
   "outputs": [
    {
     "name": "stdout",
     "output_type": "stream",
     "text": [
      "Top_State shape is - (190, 12)\n",
      "Top_District shape is - (5798, 12)\n",
      "Top_Pincode shape is - (6855, 12)\n",
      "Top_State shape is - (280, 12)\n",
      "Top_District shape is - (8576, 12)\n",
      "Top_Pincode shape is - (10277, 12)\n",
      "Top_State shape is - (280, 7)\n",
      "Top_District shape is - (8576, 7)\n",
      "Top_Pincode shape is - (10280, 7)\n"
     ]
    }
   ],
   "source": [
    "# displaying the rows and columns of tables\n",
    "for df in list:\n",
    "  for key,value in df.items():\n",
    "    print(f\"{key} shape is - {value.shape}\")"
   ]
  },
  {
   "cell_type": "code",
   "execution_count": null,
   "id": "bd4ec888",
   "metadata": {},
   "outputs": [
    {
     "name": "stdout",
     "output_type": "stream",
     "text": [
      "<class 'pandas.core.frame.DataFrame'>\n",
      "RangeIndex: 190 entries, 0 to 189\n",
      "Data columns (total 12 columns):\n",
      " #   Column       Non-Null Count  Dtype  \n",
      "---  ------       --------------  -----  \n",
      " 0   TopState     190 non-null    object \n",
      " 1   StateCount   190 non-null    float64\n",
      " 2   StateAmount  190 non-null    float64\n",
      " 3   Year         190 non-null    int64  \n",
      " 4   Quarter      190 non-null    int64  \n",
      " 5   State        0 non-null      object \n",
      " 6   TopDistrict  0 non-null      object \n",
      " 7   DistCount    0 non-null      object \n",
      " 8   DistAmount   0 non-null      object \n",
      " 9   TopPinCode   0 non-null      object \n",
      " 10  PinCount     0 non-null      object \n",
      " 11  PinAmount    0 non-null      object \n",
      "dtypes: float64(2), int64(2), object(8)\n",
      "memory usage: 17.9+ KB\n",
      "Top_State\n",
      "None\n",
      "\n",
      "<class 'pandas.core.frame.DataFrame'>\n",
      "RangeIndex: 5798 entries, 0 to 5797\n",
      "Data columns (total 12 columns):\n",
      " #   Column       Non-Null Count  Dtype  \n",
      "---  ------       --------------  -----  \n",
      " 0   TopState     0 non-null      object \n",
      " 1   StateCount   0 non-null      object \n",
      " 2   StateAmount  0 non-null      object \n",
      " 3   Year         5798 non-null   int64  \n",
      " 4   Quarter      5798 non-null   int64  \n",
      " 5   State        5608 non-null   object \n",
      " 6   TopDistrict  5798 non-null   object \n",
      " 7   DistCount    5798 non-null   float64\n",
      " 8   DistAmount   5798 non-null   float64\n",
      " 9   TopPinCode   0 non-null      object \n",
      " 10  PinCount     0 non-null      object \n",
      " 11  PinAmount    0 non-null      object \n",
      "dtypes: float64(2), int64(2), object(8)\n",
      "memory usage: 543.7+ KB\n",
      "Top_District\n",
      "None\n",
      "\n",
      "<class 'pandas.core.frame.DataFrame'>\n",
      "RangeIndex: 6855 entries, 0 to 6854\n",
      "Data columns (total 12 columns):\n",
      " #   Column       Non-Null Count  Dtype  \n",
      "---  ------       --------------  -----  \n",
      " 0   TopState     0 non-null      object \n",
      " 1   StateCount   0 non-null      object \n",
      " 2   StateAmount  0 non-null      object \n",
      " 3   Year         6855 non-null   int64  \n",
      " 4   Quarter      6855 non-null   int64  \n",
      " 5   State        6665 non-null   object \n",
      " 6   TopDistrict  0 non-null      object \n",
      " 7   DistCount    0 non-null      object \n",
      " 8   DistAmount   0 non-null      object \n",
      " 9   TopPinCode   6855 non-null   object \n",
      " 10  PinCount     6855 non-null   float64\n",
      " 11  PinAmount    6855 non-null   float64\n",
      "dtypes: float64(2), int64(2), object(8)\n",
      "memory usage: 642.8+ KB\n",
      "Top_Pincode\n",
      "None\n",
      "\n",
      "<class 'pandas.core.frame.DataFrame'>\n",
      "RangeIndex: 280 entries, 0 to 279\n",
      "Data columns (total 12 columns):\n",
      " #   Column       Non-Null Count  Dtype  \n",
      "---  ------       --------------  -----  \n",
      " 0   TopState     280 non-null    object \n",
      " 1   StateCount   280 non-null    float64\n",
      " 2   StateAmount  280 non-null    float64\n",
      " 3   Year         280 non-null    int64  \n",
      " 4   Quarter      280 non-null    int64  \n",
      " 5   State        0 non-null      object \n",
      " 6   TopDistrict  0 non-null      object \n",
      " 7   DistCount    0 non-null      object \n",
      " 8   DistAmount   0 non-null      object \n",
      " 9   TopPinCode   0 non-null      object \n",
      " 10  PinCount     0 non-null      object \n",
      " 11  PinAmount    0 non-null      object \n",
      "dtypes: float64(2), int64(2), object(8)\n",
      "memory usage: 26.4+ KB\n",
      "Top_State\n",
      "None\n",
      "\n",
      "<class 'pandas.core.frame.DataFrame'>\n",
      "RangeIndex: 8576 entries, 0 to 8575\n",
      "Data columns (total 12 columns):\n",
      " #   Column       Non-Null Count  Dtype  \n",
      "---  ------       --------------  -----  \n",
      " 0   TopState     0 non-null      object \n",
      " 1   StateCount   0 non-null      object \n",
      " 2   StateAmount  0 non-null      object \n",
      " 3   Year         8576 non-null   int64  \n",
      " 4   Quarter      8576 non-null   int64  \n",
      " 5   State        8296 non-null   object \n",
      " 6   TopDistrict  8576 non-null   object \n",
      " 7   DistCount    8576 non-null   float64\n",
      " 8   DistAmount   8576 non-null   float64\n",
      " 9   TopPinCode   0 non-null      object \n",
      " 10  PinCount     0 non-null      object \n",
      " 11  PinAmount    0 non-null      object \n",
      "dtypes: float64(2), int64(2), object(8)\n",
      "memory usage: 804.1+ KB\n",
      "Top_District\n",
      "None\n",
      "\n",
      "<class 'pandas.core.frame.DataFrame'>\n",
      "RangeIndex: 10277 entries, 0 to 10276\n",
      "Data columns (total 12 columns):\n",
      " #   Column       Non-Null Count  Dtype  \n",
      "---  ------       --------------  -----  \n",
      " 0   TopState     0 non-null      object \n",
      " 1   StateCount   0 non-null      object \n",
      " 2   StateAmount  0 non-null      object \n",
      " 3   Year         10277 non-null  int64  \n",
      " 4   Quarter      10277 non-null  int64  \n",
      " 5   State        9997 non-null   object \n",
      " 6   TopDistrict  0 non-null      object \n",
      " 7   DistCount    0 non-null      object \n",
      " 8   DistAmount   0 non-null      object \n",
      " 9   TopPinCode   10277 non-null  object \n",
      " 10  PinCount     10277 non-null  float64\n",
      " 11  PinAmount    10277 non-null  float64\n",
      "dtypes: float64(2), int64(2), object(8)\n",
      "memory usage: 963.6+ KB\n",
      "Top_Pincode\n",
      "None\n",
      "\n",
      "<class 'pandas.core.frame.DataFrame'>\n",
      "RangeIndex: 280 entries, 0 to 279\n",
      "Data columns (total 7 columns):\n",
      " #   Column       Non-Null Count  Dtype \n",
      "---  ------       --------------  ----- \n",
      " 0   TopState     280 non-null    object\n",
      " 1   RegUsers     280 non-null    int64 \n",
      " 2   Year         280 non-null    int64 \n",
      " 3   Quarter      280 non-null    int64 \n",
      " 4   State        0 non-null      object\n",
      " 5   TopDistrict  0 non-null      object\n",
      " 6   TopPinCode   0 non-null      object\n",
      "dtypes: int64(3), object(4)\n",
      "memory usage: 15.4+ KB\n",
      "Top_State\n",
      "None\n",
      "\n",
      "<class 'pandas.core.frame.DataFrame'>\n",
      "RangeIndex: 8576 entries, 0 to 8575\n",
      "Data columns (total 7 columns):\n",
      " #   Column       Non-Null Count  Dtype \n",
      "---  ------       --------------  ----- \n",
      " 0   TopState     0 non-null      object\n",
      " 1   RegUsers     8576 non-null   int64 \n",
      " 2   Year         8576 non-null   int64 \n",
      " 3   Quarter      8576 non-null   int64 \n",
      " 4   State        8296 non-null   object\n",
      " 5   TopDistrict  8576 non-null   object\n",
      " 6   TopPinCode   0 non-null      object\n",
      "dtypes: int64(3), object(4)\n",
      "memory usage: 469.1+ KB\n",
      "Top_District\n",
      "None\n",
      "\n",
      "<class 'pandas.core.frame.DataFrame'>\n",
      "RangeIndex: 10280 entries, 0 to 10279\n",
      "Data columns (total 7 columns):\n",
      " #   Column       Non-Null Count  Dtype  \n",
      "---  ------       --------------  -----  \n",
      " 0   TopState     0 non-null      object \n",
      " 1   RegUsers     10280 non-null  int64  \n",
      " 2   Year         10280 non-null  int64  \n",
      " 3   Quarter      10280 non-null  int64  \n",
      " 4   State        10000 non-null  object \n",
      " 5   TopDistrict  0 non-null      object \n",
      " 6   TopPinCode   10280 non-null  float64\n",
      "dtypes: float64(1), int64(3), object(3)\n",
      "memory usage: 562.3+ KB\n",
      "Top_Pincode\n",
      "None\n",
      "\n"
     ]
    }
   ],
   "source": [
    "# displaying the basic info for tables\n",
    "for df in list:\n",
    "  for key,value in df.items():\n",
    "    print(f\"{key}\\n{value.info()}\\n\")"
   ]
  },
  {
   "cell_type": "code",
   "execution_count": null,
   "id": "73aba0f7",
   "metadata": {},
   "outputs": [
    {
     "name": "stdout",
     "output_type": "stream",
     "text": [
      "No. of duplicates in Top_State - 0\n",
      "No. of duplicates in Top_District - 0\n",
      "No. of duplicates in Top_Pincode - 0\n",
      "No. of duplicates in Top_State - 0\n",
      "No. of duplicates in Top_District - 0\n",
      "No. of duplicates in Top_Pincode - 0\n",
      "No. of duplicates in Top_State - 0\n",
      "No. of duplicates in Top_District - 0\n",
      "No. of duplicates in Top_Pincode - 0\n"
     ]
    }
   ],
   "source": [
    "# checking for duplicates\n",
    "for df in list:\n",
    "  for key,value in df.items():\n",
    "    print(f\"No. of duplicates in {key} - {value.duplicated().sum()}\")"
   ]
  },
  {
   "cell_type": "code",
   "execution_count": null,
   "id": "9fd44043",
   "metadata": {},
   "outputs": [
    {
     "name": "stdout",
     "output_type": "stream",
     "text": [
      "Top_State\n",
      "TopState         0\n",
      "StateCount       0\n",
      "StateAmount      0\n",
      "Year             0\n",
      "Quarter          0\n",
      "State          190\n",
      "TopDistrict    190\n",
      "DistCount      190\n",
      "DistAmount     190\n",
      "TopPinCode     190\n",
      "PinCount       190\n",
      "PinAmount      190\n",
      "dtype: int64\n",
      "\n",
      "Top_District\n",
      "TopState       5798\n",
      "StateCount     5798\n",
      "StateAmount    5798\n",
      "Year              0\n",
      "Quarter           0\n",
      "State           190\n",
      "TopDistrict       0\n",
      "DistCount         0\n",
      "DistAmount        0\n",
      "TopPinCode     5798\n",
      "PinCount       5798\n",
      "PinAmount      5798\n",
      "dtype: int64\n",
      "\n",
      "Top_Pincode\n",
      "TopState       6855\n",
      "StateCount     6855\n",
      "StateAmount    6855\n",
      "Year              0\n",
      "Quarter           0\n",
      "State           190\n",
      "TopDistrict    6855\n",
      "DistCount      6855\n",
      "DistAmount     6855\n",
      "TopPinCode        0\n",
      "PinCount          0\n",
      "PinAmount         0\n",
      "dtype: int64\n",
      "\n",
      "Top_State\n",
      "TopState         0\n",
      "StateCount       0\n",
      "StateAmount      0\n",
      "Year             0\n",
      "Quarter          0\n",
      "State          280\n",
      "TopDistrict    280\n",
      "DistCount      280\n",
      "DistAmount     280\n",
      "TopPinCode     280\n",
      "PinCount       280\n",
      "PinAmount      280\n",
      "dtype: int64\n",
      "\n",
      "Top_District\n",
      "TopState       8576\n",
      "StateCount     8576\n",
      "StateAmount    8576\n",
      "Year              0\n",
      "Quarter           0\n",
      "State           280\n",
      "TopDistrict       0\n",
      "DistCount         0\n",
      "DistAmount        0\n",
      "TopPinCode     8576\n",
      "PinCount       8576\n",
      "PinAmount      8576\n",
      "dtype: int64\n",
      "\n",
      "Top_Pincode\n",
      "TopState       10277\n",
      "StateCount     10277\n",
      "StateAmount    10277\n",
      "Year               0\n",
      "Quarter            0\n",
      "State            280\n",
      "TopDistrict    10277\n",
      "DistCount      10277\n",
      "DistAmount     10277\n",
      "TopPinCode         0\n",
      "PinCount           0\n",
      "PinAmount          0\n",
      "dtype: int64\n",
      "\n",
      "Top_State\n",
      "TopState         0\n",
      "RegUsers         0\n",
      "Year             0\n",
      "Quarter          0\n",
      "State          280\n",
      "TopDistrict    280\n",
      "TopPinCode     280\n",
      "dtype: int64\n",
      "\n",
      "Top_District\n",
      "TopState       8576\n",
      "RegUsers          0\n",
      "Year              0\n",
      "Quarter           0\n",
      "State           280\n",
      "TopDistrict       0\n",
      "TopPinCode     8576\n",
      "dtype: int64\n",
      "\n",
      "Top_Pincode\n",
      "TopState       10280\n",
      "RegUsers           0\n",
      "Year               0\n",
      "Quarter            0\n",
      "State            280\n",
      "TopDistrict    10280\n",
      "TopPinCode         0\n",
      "dtype: int64\n",
      "\n"
     ]
    }
   ],
   "source": [
    "# checking missing values in each column\n",
    "for df in list:\n",
    "  for key,value in df.items():\n",
    "    print(f\"{key}\\n{value.isna().sum()}\\n\")"
   ]
  },
  {
   "cell_type": "markdown",
   "id": "42b8ea32",
   "metadata": {},
   "source": [
    "##### * Visualization of Missing values using Heatmap"
   ]
  },
  {
   "cell_type": "markdown",
   "id": "3feca8de",
   "metadata": {},
   "source": [
    "##### 1. Top Insurance"
   ]
  },
  {
   "cell_type": "code",
   "execution_count": null,
   "id": "02447593",
   "metadata": {},
   "outputs": [
    {
     "data": {
      "image/png": "[encoded data removed]",
      "text/plain": [
       "<Figure size 400x200 with 1 Axes>"
      ]
     },
     "metadata": {},
     "output_type": "display_data"
    },
    {
     "data": {
      "image/png": "[encoded data removed]",
      "text/plain": [
       "<Figure size 400x200 with 1 Axes>"
      ]
     },
     "metadata": {},
     "output_type": "display_data"
    },
    {
     "data": {
      "image/png": "[encoded data removed]",
      "text/plain": [
       "<Figure size 400x200 with 1 Axes>"
      ]
     },
     "metadata": {},
     "output_type": "display_data"
    }
   ],
   "source": [
    "# heatmap for top states\n",
    "plot_heatmap(df_top_state_insu,\"Top States Insurance\")  \n",
    "plot_heatmap(df_top_dist_insu,\"Top District Insurance\")\n",
    "plot_heatmap(df_top_pins_insu,\"Top PinCodes Insurance\")"
   ]
  },
  {
   "cell_type": "markdown",
   "id": "b5781baf",
   "metadata": {},
   "source": [
    "##### 2. Top Transaction"
   ]
  },
  {
   "cell_type": "code",
   "execution_count": null,
   "id": "fcc1df29",
   "metadata": {},
   "outputs": [
    {
     "data": {
      "image/png": "[encoded data removed]",
      "text/plain": [
       "<Figure size 400x200 with 1 Axes>"
      ]
     },
     "metadata": {},
     "output_type": "display_data"
    },
    {
     "data": {
      "image/png": "[encoded data removed]",
      "text/plain": [
       "<Figure size 400x200 with 1 Axes>"
      ]
     },
     "metadata": {},
     "output_type": "display_data"
    },
    {
     "data": {
      "image/png": "[encoded data removed]",
      "text/plain": [
       "<Figure size 400x200 with 1 Axes>"
      ]
     },
     "metadata": {},
     "output_type": "display_data"
    }
   ],
   "source": [
    "plot_heatmap(df_top_state_trans,\"Top States Transaction\")\n",
    "plot_heatmap(df_top_dist_trans,\"Top District Transaction\")\n",
    "plot_heatmap(df_top_pins_trans,\"Top PinCodes Transaction\")"
   ]
  },
  {
   "cell_type": "markdown",
   "id": "53720572",
   "metadata": {},
   "source": [
    "##### 3. Top Users"
   ]
  },
  {
   "cell_type": "code",
   "execution_count": null,
   "id": "7c7b1122",
   "metadata": {},
   "outputs": [
    {
     "data": {
      "image/png": "[encoded data removed]",
      "text/plain": [
       "<Figure size 400x200 with 1 Axes>"
      ]
     },
     "metadata": {},
     "output_type": "display_data"
    },
    {
     "data": {
      "image/png": "[encoded data removed]",
      "text/plain": [
       "<Figure size 400x200 with 1 Axes>"
      ]
     },
     "metadata": {},
     "output_type": "display_data"
    },
    {
     "data": {
      "image/png": "[encoded data removed]",
      "text/plain": [
       "<Figure size 400x200 with 1 Axes>"
      ]
     },
     "metadata": {},
     "output_type": "display_data"
    }
   ],
   "source": [
    "plot_heatmap(df_top_state_user,\"Top States User\")\n",
    "plot_heatmap(df_top_dist_user,\"Top District User\")\n",
    "plot_heatmap(df_top_pins_user,\"Top PinCodes User\")"
   ]
  },
  {
   "cell_type": "markdown",
   "id": "9e058ebd",
   "metadata": {},
   "source": [
    "#### * Map Data"
   ]
  },
  {
   "cell_type": "code",
   "execution_count": null,
   "id": "16a2fdd6",
   "metadata": {},
   "outputs": [],
   "source": []
  },
  {
   "cell_type": "markdown",
   "id": "db328f69",
   "metadata": {},
   "source": [
    "### 3. Data Exploration"
   ]
  },
  {
   "cell_type": "markdown",
   "id": "1c2732e5",
   "metadata": {},
   "source": [
    "### 4. Data Visualization"
   ]
  },
  {
   "cell_type": "code",
   "execution_count": null,
   "id": "20d4a1c2",
   "metadata": {},
   "outputs": [],
   "source": []
  }
 ],
 "metadata": {
  "kernelspec": {
   "display_name": "Python 3",
   "language": "python",
   "name": "python3"
  },
  "language_info": {
   "codemirror_mode": {
    "name": "ipython",
    "version": 3
   },
   "file_extension": ".py",
   "mimetype": "text/x-python",
   "name": "python",
   "nbconvert_exporter": "python",
   "pygments_lexer": "ipython3",
   "version": "3.11.9"
  }
 },
 "nbformat": 4,
 "nbformat_minor": 5
}
